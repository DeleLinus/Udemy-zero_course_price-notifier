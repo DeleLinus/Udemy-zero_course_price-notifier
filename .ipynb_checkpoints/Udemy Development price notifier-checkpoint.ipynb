{
 "cells": [
  {
   "cell_type": "code",
   "execution_count": 1,
   "metadata": {
    "collapsed": true
   },
   "outputs": [],
   "source": [
    "import requests\n",
    "from bs4 import BeautifulSoup\n",
    "import pandas as pd\n",
    "import numpy as np"
   ]
  },
  {
   "cell_type": "code",
   "execution_count": 2,
   "metadata": {
    "collapsed": true
   },
   "outputs": [],
   "source": [
    "from selenium import webdriver\n",
    "from selenium.webdriver.common.desired_capabilities import DesiredCapabilities\n",
    "from selenium.webdriver.chrome.options import Options\n",
    "import matplotlib.pyplot as plt"
   ]
  },
  {
   "cell_type": "code",
   "execution_count": 3,
   "metadata": {},
   "outputs": [
    {
     "name": "stderr",
     "output_type": "stream",
     "text": [
      "C:\\Users\\USER\\Anaconda3\\lib\\site-packages\\selenium\\webdriver\\phantomjs\\webdriver.py:49: UserWarning: Selenium support for PhantomJS has been deprecated, please use headless versions of Chrome or Firefox instead\n",
      "  warnings.warn('Selenium support for PhantomJS has been deprecated, please use headless '\n"
     ]
    }
   ],
   "source": [
    "# url=\"https://www.udemy.com/courses/development/\"\n",
    "# browser= webdriver.PhantomJS(executable_path= r\"C:\\Users\\USER\\Downloads\\Setups\\phantomjs-2.1.1-windows\\phantomjs-2.1.1-windows\\bin\\phantomjs.exe\")\n",
    "# dcap=dict(DesiredCapabilities.PHANTOMJS)\n",
    "# dcap[\"phantomjs.page.settings.useragent\"]=(\"Mozilla/5.0 (Windows NT 10.0; Win64; x64) AppleWebKit/537.36 (KHTML, like Gecko) Chrome/81.0.4044.138 Safari/537.36\")\n",
    "# browser=webdriver.PhantomJS(desired_capabilities=dcap, service_args=[\"--ignore-ssl-errors=true\"])\n",
    "# browser.implicitly_wait(20)\n",
    "# browser.get(url)"
   ]
  },
  {
   "cell_type": "code",
   "execution_count": 8,
   "metadata": {},
   "outputs": [],
   "source": [
    "url=\"https://www.udemy.com/courses/development/\"\n",
    "# browser= webdriver.Chrome(executable_path=r\"C:\\Users\\USER\\Downloads\\Setups\\chromedriver.exe\")\n",
    "browser= webdriver.Chrome('chromedriver.exe')\n",
    "chrome_options=Options()\n",
    "chrome_options.add_argument('--disable-gpu')\n",
    "chrome_options.add_argument('--headless')\n",
    "dcap=DesiredCapabilities.CHROME.copy()\n",
    "dcap['acceptInsecureCerts']= True\n",
    "# dcap['platform'] = \"WINDOWS\"\n",
    "# dcap['version'] = \"10\"\n",
    "browser= webdriver.Chrome(desired_capabilities=dcap, options=chrome_options)\n",
    "# tell the driver to allow page to load properly (20s) before polling DOM\n",
    "browser.implicitly_wait(20)\n",
    "browser.get(url)"
   ]
  },
  {
   "cell_type": "code",
   "execution_count": 9,
   "metadata": {},
   "outputs": [
    {
     "data": {
      "text/plain": [
       "True"
      ]
     },
     "execution_count": 9,
     "metadata": {},
     "output_type": "execute_result"
    }
   ],
   "source": [
    "browser.save_screenshot(r'homepage.png')"
   ]
  },
  {
   "cell_type": "code",
   "execution_count": null,
   "metadata": {
    "collapsed": true
   },
   "outputs": [],
   "source": [
    "soup=BeautifulSoup(browser.page_source,'')"
   ]
  }
 ],
 "metadata": {
  "kernelspec": {
   "display_name": "Python 3",
   "language": "python",
   "name": "python3"
  },
  "language_info": {
   "codemirror_mode": {
    "name": "ipython",
    "version": 3
   },
   "file_extension": ".py",
   "mimetype": "text/x-python",
   "name": "python",
   "nbconvert_exporter": "python",
   "pygments_lexer": "ipython3",
   "version": "3.7.6"
  }
 },
 "nbformat": 4,
 "nbformat_minor": 2
}
